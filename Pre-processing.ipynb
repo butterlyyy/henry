{
 "cells": [
  {
   "cell_type": "markdown",
   "id": "342d073f",
   "metadata": {},
   "source": [
    "#### Null Vlaues"
   ]
  },
  {
   "cell_type": "code",
   "execution_count": null,
   "id": "b34ad67e",
   "metadata": {},
   "outputs": [],
   "source": [
    "import pandas as pd\n",
    "import numpy as np\n",
    "\n",
    "# Read in the dataset\n",
    "df = pd.read_csv('customer_segmentation.csv')\n",
    "\n",
    "# Remove rows with null values\n",
    "df.dropna(inplace=True)\n",
    "\n",
    "# Replace null values with the mean\n",
    "df.fillna(df.mean(), inplace=True)\n",
    "\n",
    "# Replace null values with the mode\n",
    "df.fillna(df.mode().iloc[0], inplace=True)\n"
   ]
  },
  {
   "cell_type": "code",
   "execution_count": null,
   "id": "fc5a41e2",
   "metadata": {},
   "outputs": [],
   "source": [
    "import pandas as pd\n",
    "import numpy as np\n",
    "\n",
    "# Read in the dataset\n",
    "df = pd.read_csv('data.csv')\n",
    "\n",
    "# Handling missing data\n",
    "df.dropna(inplace=True)  # Remove rows with missing values\n",
    "df.fillna(df.mean(), inplace=True)  # Replace missing values with the mean\n",
    "df.fillna(df.mode().iloc[0], inplace=True)  # Replace missing values with the mode\n",
    "\n",
    "# Handling duplicate data\n",
    "df.drop_duplicates(inplace=True)  # Remove duplicate rows\n",
    "\n",
    "# Handling inconsistent data\n",
    "df['column_name'] = df['column_name'].apply(lambda x: 'correct_value' if x == 'incorrect_value' else x)\n",
    "\n",
    "# Handling outliers\n",
    "mean = np.mean(df['column_name'])\n",
    "std = np.std(df['column_name'])\n",
    "threshold = 3\n",
    "lower_threshold = mean - std * threshold\n",
    "upper_threshold = mean + std * threshold\n",
    "df = df[(df['column_name'] > lower_threshold) & (df['column_name'] < upper_threshold)]\n"
   ]
  },
  {
   "cell_type": "markdown",
   "id": "b8f3e4b1",
   "metadata": {},
   "source": [
    "### Condition Given to drop"
   ]
  },
  {
   "cell_type": "code",
   "execution_count": null,
   "id": "c6287958",
   "metadata": {},
   "outputs": [],
   "source": [
    "customer.drop(['ID','Var_1'],axis=1, inplace=True)\n",
    "Customer"
   ]
  },
  {
   "cell_type": "markdown",
   "id": "b56d2188",
   "metadata": {},
   "source": [
    "## Scaler"
   ]
  },
  {
   "cell_type": "markdown",
   "id": "9e0379bc",
   "metadata": {},
   "source": [
    "#### MinMaxScaler"
   ]
  },
  {
   "cell_type": "code",
   "execution_count": null,
   "id": "ec544f12",
   "metadata": {},
   "outputs": [],
   "source": [
    "from sklearn.preprocessing import MinMaxScaler\n",
    "import pandas as pd\n",
    "\n",
    "# Read in the dataset\n",
    "df = pd.read_csv('data.csv')\n",
    "\n",
    "# Initialize MinMaxScaler\n",
    "scaler = MinMaxScaler()\n",
    "\n",
    "# Scale the data\n",
    "scaled_data = scaler.fit_transform(df)\n",
    "\n",
    "# Create a new dataframe with scaled data\n",
    "scaled_df = pd.DataFrame(scaled_data, columns=df.columns)\n",
    "\n",
    "# Print the first five rows of the scaled data\n",
    "print(scaled_df.head())\n"
   ]
  },
  {
   "cell_type": "markdown",
   "id": "444354a5",
   "metadata": {},
   "source": [
    "##### Standard Scaler"
   ]
  },
  {
   "cell_type": "code",
   "execution_count": null,
   "id": "62a0dbce",
   "metadata": {},
   "outputs": [],
   "source": [
    "from sklearn.preprocessing import StandardScaler\n",
    "import pandas as pd\n",
    "\n",
    "# Read in the dataset\n",
    "df = pd.read_csv('data.csv')\n",
    "\n",
    "# Initialize StandardScaler\n",
    "scaler = StandardScaler()\n",
    "\n",
    "# Scale the data\n",
    "scaled_data = scaler.fit_transform(df)\n",
    "\n",
    "# Create a new dataframe with scaled data\n",
    "scaled_df = pd.DataFrame(scaled_data, columns=df.columns)\n",
    "\n",
    "# Print the first five rows of the scaled data\n",
    "print(scaled_df.head())\n",
    "\n",
    "# to Sandardise the features\n",
    "from sklearn.preprocessing import StandardScaler\n",
    "sc=StandardScaler()\n",
    "X_scaled=sc.fit_transform(X)\n",
    "X_scaled\n"
   ]
  },
  {
   "cell_type": "markdown",
   "id": "ab5a775f",
   "metadata": {},
   "source": [
    "#### Normalizer"
   ]
  },
  {
   "cell_type": "code",
   "execution_count": null,
   "id": "4f0cb45f",
   "metadata": {},
   "outputs": [],
   "source": [
    "from sklearn.preprocessing import normalize\n",
    "import pandas as pd\n",
    "\n",
    "# Read in the dataset\n",
    "df = pd.read_csv('data.csv')\n",
    "\n",
    "# Normalize the data\n",
    "normalized_data = normalize(df)\n",
    "\n",
    "# Create a new dataframe with normalized data\n",
    "normalized_df = pd.DataFrame(normalized_data, columns=df.columns)\n",
    "\n",
    "# Print the first five rows of the normalized data\n",
    "print(normalized_df.head())\n"
   ]
  },
  {
   "cell_type": "markdown",
   "id": "ce957e29",
   "metadata": {},
   "source": [
    "#### LabelEncoder"
   ]
  },
  {
   "cell_type": "code",
   "execution_count": null,
   "id": "7ba61c3e",
   "metadata": {},
   "outputs": [],
   "source": [
    "from sklearn.preprocessing import LabelEncoder\n",
    "import pandas as pd\n",
    "\n",
    "# Read in the dataset\n",
    "df = pd.read_csv('data.csv')\n",
    "\n",
    "# Initialize LabelEncoder\n",
    "encoder = LabelEncoder()\n",
    "\n",
    "# Encode the categorical column\n",
    "df['categorical_column'] = encoder.fit_transform(df['categorical_column'])\n",
    "\n",
    "# Print the first five rows of the encoded data\n",
    "print(df.head())\n"
   ]
  },
  {
   "cell_type": "markdown",
   "id": "efb88f9a",
   "metadata": {},
   "source": [
    "##### One-hot encoding"
   ]
  },
  {
   "cell_type": "code",
   "execution_count": null,
   "id": "edd1065b",
   "metadata": {},
   "outputs": [],
   "source": [
    "from sklearn.preprocessing import OneHotEncoder\n",
    "import pandas as pd\n",
    "\n",
    "# Read in the dataset\n",
    "df = pd.read_csv('data.csv')\n",
    "\n",
    "# Initialize OneHotEncoder\n",
    "encoder = OneHotEncoder()\n",
    "\n",
    "# Encode the categorical column\n",
    "encoded_data = encoder.fit_transform(df[['categorical_column']]).toarray()\n",
    "\n",
    "# Create a new dataframe with encoded data\n",
    "encoded_df = pd.DataFrame(encoded_data, columns=encoder.get_feature_names(['categorical_column']))\n",
    "\n",
    "# Concatenate the original dataframe and the encoded dataframe\n",
    "df = pd.concat([df, encoded_df], axis=1)\n",
    "\n",
    "# Drop the original categorical column\n",
    "df.drop('categorical_column', axis=1, inplace=True)\n",
    "\n",
    "# Print the first five rows of the encoded data\n",
    "print(df.head())\n"
   ]
  },
  {
   "cell_type": "markdown",
   "id": "a0970c51",
   "metadata": {},
   "source": [
    "#### Selecting target and feature"
   ]
  },
  {
   "cell_type": "code",
   "execution_count": null,
   "id": "f54df571",
   "metadata": {},
   "outputs": [],
   "source": [
    "#NORMAL\n",
    "import pandas as pd\n",
    "\n",
    "# Read in the dataset\n",
    "df = pd.read_csv('data.csv')\n",
    "\n",
    "# Select the features\n",
    "features = df[['feature1', 'feature2', 'feature3']]\n",
    "\n",
    "# Select the target variable\n",
    "target = df['target_variable']\n",
    "\n",
    "# Print the first five rows of the features and target\n",
    "print(features.head())\n",
    "print(target.head())\n"
   ]
  },
  {
   "cell_type": "code",
   "execution_count": null,
   "id": "1dc94516",
   "metadata": {},
   "outputs": [],
   "source": [
    "#Feature= all except target\n",
    "import pandas as pd\n",
    "\n",
    "# Read in the dataset\n",
    "df = pd.read_csv('data.csv')\n",
    "\n",
    "# Select the features\n",
    "features = df.drop('target_variable', axis=1)\n",
    "\n",
    "# Select the target variable\n",
    "target = df['target_variable']\n",
    "\n",
    "# Print the first five rows of the features and target\n",
    "print(features.head())\n",
    "print(target.head())\n"
   ]
  },
  {
   "cell_type": "markdown",
   "id": "60c0813f",
   "metadata": {},
   "source": [
    "### coverti all categorical columns to numeric"
   ]
  },
  {
   "cell_type": "code",
   "execution_count": null,
   "id": "82b3016c",
   "metadata": {},
   "outputs": [],
   "source": [
    "import pandas as pd\n",
    "from sklearn.preprocessing import LabelEncoder\n",
    "\n",
    "# Read in the dataset\n",
    "df = pd.read_csv('data.csv')\n",
    "\n",
    "# Select the features\n",
    "features = df.drop('target_variable', axis=1)\n",
    "\n",
    "# Convert categorical columns to numeric using Label Encoding\n",
    "le = LabelEncoder()\n",
    "for column in features.select_dtypes(include=['object']):\n",
    "    features[column] = le.fit_transform(features[column])\n",
    "\n",
    "# Select the target variable\n",
    "target = df['target_variable']\n",
    "\n",
    "# Print the first five rows of the features and target\n",
    "print(features.head())\n",
    "print(target.head())\n"
   ]
  },
  {
   "cell_type": "code",
   "execution_count": null,
   "id": "391cdcd1",
   "metadata": {},
   "outputs": [],
   "source": [
    "# Convereting categorical to numeric- one hot\n",
    "\n",
    "cust=pd.get_dummies(customer)\n",
    "cust"
   ]
  },
  {
   "cell_type": "code",
   "execution_count": null,
   "id": "78887ad7",
   "metadata": {},
   "outputs": [],
   "source": []
  }
 ],
 "metadata": {
  "kernelspec": {
   "display_name": "Python 3 (ipykernel)",
   "language": "python",
   "name": "python3"
  },
  "language_info": {
   "codemirror_mode": {
    "name": "ipython",
    "version": 3
   },
   "file_extension": ".py",
   "mimetype": "text/x-python",
   "name": "python",
   "nbconvert_exporter": "python",
   "pygments_lexer": "ipython3",
   "version": "3.9.12"
  }
 },
 "nbformat": 4,
 "nbformat_minor": 5
}
